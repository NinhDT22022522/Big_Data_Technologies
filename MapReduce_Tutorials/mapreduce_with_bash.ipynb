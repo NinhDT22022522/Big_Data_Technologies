{
  "cells": [
    {
      "cell_type": "markdown",
      "metadata": {
        "id": "view-in-github",
        "colab_type": "text"
      },
      "source": [
        "<a href=\"https://colab.research.google.com/github/NinhDT22022522/Big_Data_Technologies/blob/main/mapreduce_with_bash.ipynb\" target=\"_parent\"><img src=\"https://colab.research.google.com/assets/colab-badge.svg\" alt=\"Open In Colab\"/></a>"
      ]
    },
    {
      "cell_type": "markdown",
      "metadata": {
        "id": "bV9pnj3dDfPk"
      },
      "source": [
        "# Mapreduce with bash\n",
        "\n",
        "In this notebook we're going to use `bash` to write a mapper and a reducer to count words in a file. This example will serve to illustrate the main features of Hadoop's MapReduce framework."
      ]
    },
    {
      "cell_type": "markdown",
      "metadata": {
        "id": "wpPsO5F9DfPl"
      },
      "source": [
        "# Table of contents\n",
        "- [What is MapReduce?](#mapreduce)\n",
        "- [The mapper](#mapper)\n",
        "    - [Test the mapper](#testmapper)\n",
        "- [Hadoop it up](#hadoop)\n",
        "    - [What is Hadoop Streaming?](#hadoopstreaming)\n",
        "    - [List your Hadoop directory](#hdfs_ls)\n",
        "    - [Test MapReduce with a dummy reducer](#dummyreducer)\n",
        "    - [Shuffling and sorting](#shuffling&sorting)\n",
        "- [The reducer](#reducer)\n",
        "    - [Test and run](#run)\n",
        "- [Run a mapreduce job with more data](#moredata)\n",
        "    - [Sort the output with `sort`](#sortoutput)\n",
        "    - [Sort the output with another MapReduce job](#sortoutputMR)\n",
        "    - [Configure sort with `KeyFieldBasedComparator`](#KeyFieldBasedComparator)\n",
        "    - [Specifying Configuration Variables with the -D Option](#configuration_variables)\n",
        "    - [What is word count useful for?](#wordcount)\n"
      ]
    },
    {
      "cell_type": "markdown",
      "metadata": {
        "id": "fK3ZM80YDfPm"
      },
      "source": [
        "## What is MapReduce? <a name=\"mapreduce\"></a>\n",
        "\n",
        "MapReduce is a computing paradigm designed to allow parallel distributed processing of massive amounts of data.\n",
        "\n",
        "Data is split across several computer nodes, there it is processed by one or more mappers. The results emitted by the mappers are first sorted and then passed to one or more reducers that process and combine the data to return the final result.\n",
        "\n",
        "![Map & Reduce](https://github.com/groda/big_data/blob/master/mapreduce.png?raw=1)\n",
        "With [Hadoop Streaming](https://hadoop.apache.org/docs/current/hadoop-streaming/HadoopStreaming.html) it is possible to use any programming language to define a mapper and/or a reducer. Here we're going to use the Unix `bash` scripting language ([here](https://www.gnu.org/software/bash/manual/html_node/index.html) is the official documentation for the language)."
      ]
    },
    {
      "cell_type": "markdown",
      "metadata": {
        "id": "7-_OWMjDDfPm"
      },
      "source": [
        "## The mapper <a name=\"mapper\"></a>\n",
        "Let's write a mapper script called `map.sh`. The mapper splits each input line into words and for each word it outputs a line containing the word and `1` separated by a tab.\n",
        "\n",
        "Example: for the input\n",
        "<html>\n",
        "<pre>\n",
        "apple orange\n",
        "banana apple peach\n",
        "</pre>\n",
        "</html>\n",
        "\n",
        "`map.sh` outputs:\n",
        "<html>\n",
        "<pre>\n",
        "apple   1\n",
        "orange  1\n",
        "banana  1\n",
        "apple  1\n",
        "peach  1\n",
        "</pre>\n",
        "</html>\n",
        "\n",
        "\n",
        "The <a href=\"https://ipython.readthedocs.io/en/stable/interactive/magics.html\">_cell magic_</a> [`%%writefile`](https://ipython.readthedocs.io/en/stable/interactive/magics.html#cellmagic-writefile) allows us to write the contents of the cell to a file."
      ]
    },
    {
      "cell_type": "code",
      "execution_count": 1,
      "metadata": {
        "colab": {
          "base_uri": "https://localhost:8080/"
        },
        "id": "BI8CN-UhDfPm",
        "outputId": "8b41a22c-dcc1-4d6b-9258-df63a449a2c4"
      },
      "outputs": [
        {
          "output_type": "stream",
          "name": "stdout",
          "text": [
            "Writing map.sh\n"
          ]
        }
      ],
      "source": [
        "%%writefile map.sh\n",
        "#!/bin/bash\n",
        "\n",
        "while read line\n",
        "do\n",
        " for word in $line\n",
        " do\n",
        "  if [ -n \"$word\" ]\n",
        "  then\n",
        "     echo -e ${word}\"\\t1\"\n",
        "  fi\n",
        " done\n",
        "done"
      ]
    },
    {
      "cell_type": "markdown",
      "metadata": {
        "id": "fBtNEXNaDfPn"
      },
      "source": [
        "After running the cell above, you should have a new file `map.sh` in your current directory.\n",
        "The file can be seen in the left panel of JupyterLab or by using a list command on the bash command-line.\n",
        "\n",
        "**Note:** you can execute a single bash command in a Jupyter notebook cell by prepending an exclamation point to the command."
      ]
    },
    {
      "cell_type": "code",
      "execution_count": 2,
      "metadata": {
        "colab": {
          "base_uri": "https://localhost:8080/"
        },
        "id": "oCY-mef6DfPn",
        "outputId": "7d76b995-12ac-443e-c49a-46186d5b6b67"
      },
      "outputs": [
        {
          "output_type": "stream",
          "name": "stdout",
          "text": [
            "-rw-r--r-- 1 root root 126 Apr 24 03:03 map.sh\n"
          ]
        }
      ],
      "source": [
        "!ls -hl map.sh"
      ]
    },
    {
      "cell_type": "markdown",
      "metadata": {
        "id": "PIMXiyhwDfPn"
      },
      "source": [
        "### Test the mapper <a name=\"testmapper\"></a>\n",
        "We're going to test the mapper on on the command line with a small text file `fruits.txt` by first creating the text file.\n",
        "In this file `apple` for instance appears two times, that's what we want our mapreduce job to compute."
      ]
    },
    {
      "cell_type": "code",
      "execution_count": 3,
      "metadata": {
        "colab": {
          "base_uri": "https://localhost:8080/"
        },
        "id": "4yKBqDRODfPn",
        "outputId": "52332905-9dcb-44e1-9377-3e3e5774b78d"
      },
      "outputs": [
        {
          "output_type": "stream",
          "name": "stdout",
          "text": [
            "Writing fruits.txt\n"
          ]
        }
      ],
      "source": [
        "%%writefile fruits.txt\n",
        "apple banana\n",
        "peach orange peach peach\n",
        "pineapple peach apple"
      ]
    },
    {
      "cell_type": "code",
      "execution_count": 4,
      "metadata": {
        "colab": {
          "base_uri": "https://localhost:8080/"
        },
        "id": "lft23ooaDfPo",
        "outputId": "6c8b8816-ef98-4ab2-987d-9a91e9bf0308"
      },
      "outputs": [
        {
          "output_type": "stream",
          "name": "stdout",
          "text": [
            "apple banana\n",
            "peach orange peach peach\n",
            "pineapple peach apple\n"
          ]
        }
      ],
      "source": [
        "!cat fruits.txt"
      ]
    },
    {
      "cell_type": "markdown",
      "metadata": {
        "id": "dkX5tlcqDfPo"
      },
      "source": [
        "Test the mapper"
      ]
    },
    {
      "cell_type": "code",
      "execution_count": 5,
      "metadata": {
        "colab": {
          "base_uri": "https://localhost:8080/"
        },
        "id": "HAjVSCx8DfPo",
        "outputId": "0456fa7d-8643-4f2d-a34d-8ed2a327f6c1"
      },
      "outputs": [
        {
          "output_type": "stream",
          "name": "stdout",
          "text": [
            "/bin/bash: line 1: ./map.sh: Permission denied\n"
          ]
        }
      ],
      "source": [
        "!cat fruits.txt|./map.sh"
      ]
    },
    {
      "cell_type": "markdown",
      "metadata": {
        "id": "BWSouyk8DfPo"
      },
      "source": [
        "If the script `map.sh` does not have the executable bit set, you need to set the correct permissions."
      ]
    },
    {
      "cell_type": "code",
      "execution_count": 6,
      "metadata": {
        "id": "VOdJeXWwDfPo"
      },
      "outputs": [],
      "source": [
        "!chmod 700 map.sh"
      ]
    },
    {
      "cell_type": "markdown",
      "metadata": {
        "id": "2ZCMGxjXDfPp"
      },
      "source": [
        "## Hadoop it up <a name=\"hadoop\"></a>\n",
        "Let us now run a MapReduce job with Hadoop Streaming."
      ]
    },
    {
      "cell_type": "markdown",
      "metadata": {
        "id": "DjEwgoaYDfPp"
      },
      "source": [
        "### What is Hadoop Streaming <a name=\"hadoopstreaming\"></a>\n",
        "\n",
        "Hadoop Streaming is a library included in the Hadoop distribution that enables you to develop MapReduce executables in languages other than Java.\n",
        "\n",
        "Mapper and/or reducer can be any sort of executables that read the input from stdin and emit the output to stdout. By default, input is read line by line and the prefix of a line up to the first tab character is the key; the rest of the line (excluding the tab character) will be the value.\n",
        "\n",
        "If there is no tab character in the line, then the entire line is considered as key and the value is null. The default input format is specified in the class `TextInputFormat` (see the [API documentation](https://hadoop.apache.org/docs/stable/api/org/apache/hadoop/mapred/TextInputFormat.html)) but this can can be customized for instance by defining another field separator (see the [Hadoop Streaming documentation](https://hadoop.apache.org/docs/stable/hadoop-streaming/HadoopStreaming.html#Customizing_How_Lines_are_Split_into_KeyValue_Pairs).\n",
        "\n",
        "This is an example of MapReduce streaming invocation syntax:\n",
        "<html>\n",
        "<pre>\n",
        "    mapred streaming \\\n",
        "  -input myInputDirs \\\n",
        "  -output myOutputDir \\\n",
        "  -mapper /bin/cat \\\n",
        "  -reducer /usr/bin/wc\n",
        "\n",
        "</pre>\n",
        "</html>\n",
        "\n",
        "You can find the full official documentation for Hadoop Streaming from Apache Hadoop here: [https://hadoop.apache.org/docs/stable/hadoop-streaming/HadoopStreaming.html](https://hadoop.apache.org/docs/stable/hadoop-streaming/HadoopStreaming.html).\n",
        "\n",
        "All options for the Hadoop Streaming command are described here: [Streaming Command Options](https://hadoop.apache.org/docs/current/hadoop-streaming/HadoopStreaming.html#Streaming_Command_Options) and can be listed with the command"
      ]
    },
    {
      "cell_type": "code",
      "execution_count": 7,
      "metadata": {
        "colab": {
          "base_uri": "https://localhost:8080/"
        },
        "id": "qccPEmN-DfPp",
        "outputId": "053ed49d-cc01-4263-b8e2-1a888d7d8102"
      },
      "outputs": [
        {
          "output_type": "stream",
          "name": "stdout",
          "text": [
            "/bin/bash: line 1: mapred: command not found\n"
          ]
        }
      ],
      "source": [
        "!mapred streaming --help"
      ]
    },
    {
      "cell_type": "markdown",
      "metadata": {
        "id": "8ymR9XcXDfPp"
      },
      "source": [
        "Now in order to run a mapreduce job that we need to \"upload\" the input file to the Hadoop file system."
      ]
    },
    {
      "cell_type": "markdown",
      "metadata": {
        "id": "eaz4KI-2DfPp"
      },
      "source": [
        "### List your Hadoop directory <a name=\"hdfs_ls\"></a>\n",
        "\n",
        "With the command `hdfs dfs -l` you can view the content of your HDFS home directory.\n",
        "\n",
        "`hdfs dfs` you can run a filesystem command on the Hadoop fileystem. The complete list of commands can be found in the [System Shell Guide](https://hadoop.apache.org/docs/stable/hadoop-project-dist/hadoop-hdfs/HDFSCommands.html#dfs)."
      ]
    },
    {
      "cell_type": "code",
      "execution_count": 8,
      "metadata": {
        "colab": {
          "base_uri": "https://localhost:8080/"
        },
        "id": "m17u_VG1DfPp",
        "outputId": "286b9f8f-0225-4486-a1cf-37e8896bfb7f"
      },
      "outputs": [
        {
          "output_type": "stream",
          "name": "stdout",
          "text": [
            "/bin/bash: line 1: hdfs: command not found\n"
          ]
        }
      ],
      "source": [
        "!hdfs dfs -ls"
      ]
    },
    {
      "cell_type": "markdown",
      "metadata": {
        "id": "kmvvV-dCDfPq"
      },
      "source": [
        "Now create a directory `wordcount` with a subdirectory `input` on the Hadoop filesystem."
      ]
    },
    {
      "cell_type": "code",
      "execution_count": 9,
      "metadata": {
        "colab": {
          "base_uri": "https://localhost:8080/",
          "height": 339
        },
        "id": "_7gGoA5hDfPq",
        "outputId": "7ed8b5fa-88e9-492c-80b0-35e32ce2b2ba"
      },
      "outputs": [
        {
          "output_type": "stream",
          "name": "stderr",
          "text": [
            "bash: line 1: hdfs: command not found\n"
          ]
        },
        {
          "output_type": "error",
          "ename": "CalledProcessError",
          "evalue": "Command 'b'hdfs dfs -mkdir -p wordcount\\n'' returned non-zero exit status 127.",
          "traceback": [
            "\u001b[0;31m---------------------------------------------------------------------------\u001b[0m",
            "\u001b[0;31mCalledProcessError\u001b[0m                        Traceback (most recent call last)",
            "\u001b[0;32m<ipython-input-9-2ff8023cecf2>\u001b[0m in \u001b[0;36m<cell line: 1>\u001b[0;34m()\u001b[0m\n\u001b[0;32m----> 1\u001b[0;31m \u001b[0mget_ipython\u001b[0m\u001b[0;34m(\u001b[0m\u001b[0;34m)\u001b[0m\u001b[0;34m.\u001b[0m\u001b[0mrun_cell_magic\u001b[0m\u001b[0;34m(\u001b[0m\u001b[0;34m'bash'\u001b[0m\u001b[0;34m,\u001b[0m \u001b[0;34m''\u001b[0m\u001b[0;34m,\u001b[0m \u001b[0;34m'hdfs dfs -mkdir -p wordcount\\n'\u001b[0m\u001b[0;34m)\u001b[0m\u001b[0;34m\u001b[0m\u001b[0;34m\u001b[0m\u001b[0m\n\u001b[0m",
            "\u001b[0;32m/usr/local/lib/python3.10/dist-packages/google/colab/_shell.py\u001b[0m in \u001b[0;36mrun_cell_magic\u001b[0;34m(self, magic_name, line, cell)\u001b[0m\n\u001b[1;32m    332\u001b[0m     \u001b[0;32mif\u001b[0m \u001b[0mline\u001b[0m \u001b[0;32mand\u001b[0m \u001b[0;32mnot\u001b[0m \u001b[0mcell\u001b[0m\u001b[0;34m:\u001b[0m\u001b[0;34m\u001b[0m\u001b[0;34m\u001b[0m\u001b[0m\n\u001b[1;32m    333\u001b[0m       \u001b[0mcell\u001b[0m \u001b[0;34m=\u001b[0m \u001b[0;34m' '\u001b[0m\u001b[0;34m\u001b[0m\u001b[0;34m\u001b[0m\u001b[0m\n\u001b[0;32m--> 334\u001b[0;31m     \u001b[0;32mreturn\u001b[0m \u001b[0msuper\u001b[0m\u001b[0;34m(\u001b[0m\u001b[0;34m)\u001b[0m\u001b[0;34m.\u001b[0m\u001b[0mrun_cell_magic\u001b[0m\u001b[0;34m(\u001b[0m\u001b[0mmagic_name\u001b[0m\u001b[0;34m,\u001b[0m \u001b[0mline\u001b[0m\u001b[0;34m,\u001b[0m \u001b[0mcell\u001b[0m\u001b[0;34m)\u001b[0m\u001b[0;34m\u001b[0m\u001b[0;34m\u001b[0m\u001b[0m\n\u001b[0m\u001b[1;32m    335\u001b[0m \u001b[0;34m\u001b[0m\u001b[0m\n\u001b[1;32m    336\u001b[0m \u001b[0;34m\u001b[0m\u001b[0m\n",
            "\u001b[0;32m/usr/local/lib/python3.10/dist-packages/IPython/core/interactiveshell.py\u001b[0m in \u001b[0;36mrun_cell_magic\u001b[0;34m(self, magic_name, line, cell)\u001b[0m\n\u001b[1;32m   2471\u001b[0m             \u001b[0;32mwith\u001b[0m \u001b[0mself\u001b[0m\u001b[0;34m.\u001b[0m\u001b[0mbuiltin_trap\u001b[0m\u001b[0;34m:\u001b[0m\u001b[0;34m\u001b[0m\u001b[0;34m\u001b[0m\u001b[0m\n\u001b[1;32m   2472\u001b[0m                 \u001b[0margs\u001b[0m \u001b[0;34m=\u001b[0m \u001b[0;34m(\u001b[0m\u001b[0mmagic_arg_s\u001b[0m\u001b[0;34m,\u001b[0m \u001b[0mcell\u001b[0m\u001b[0;34m)\u001b[0m\u001b[0;34m\u001b[0m\u001b[0;34m\u001b[0m\u001b[0m\n\u001b[0;32m-> 2473\u001b[0;31m                 \u001b[0mresult\u001b[0m \u001b[0;34m=\u001b[0m \u001b[0mfn\u001b[0m\u001b[0;34m(\u001b[0m\u001b[0;34m*\u001b[0m\u001b[0margs\u001b[0m\u001b[0;34m,\u001b[0m \u001b[0;34m**\u001b[0m\u001b[0mkwargs\u001b[0m\u001b[0;34m)\u001b[0m\u001b[0;34m\u001b[0m\u001b[0;34m\u001b[0m\u001b[0m\n\u001b[0m\u001b[1;32m   2474\u001b[0m             \u001b[0;32mreturn\u001b[0m \u001b[0mresult\u001b[0m\u001b[0;34m\u001b[0m\u001b[0;34m\u001b[0m\u001b[0m\n\u001b[1;32m   2475\u001b[0m \u001b[0;34m\u001b[0m\u001b[0m\n",
            "\u001b[0;32m/usr/local/lib/python3.10/dist-packages/IPython/core/magics/script.py\u001b[0m in \u001b[0;36mnamed_script_magic\u001b[0;34m(line, cell)\u001b[0m\n\u001b[1;32m    140\u001b[0m             \u001b[0;32melse\u001b[0m\u001b[0;34m:\u001b[0m\u001b[0;34m\u001b[0m\u001b[0;34m\u001b[0m\u001b[0m\n\u001b[1;32m    141\u001b[0m                 \u001b[0mline\u001b[0m \u001b[0;34m=\u001b[0m \u001b[0mscript\u001b[0m\u001b[0;34m\u001b[0m\u001b[0;34m\u001b[0m\u001b[0m\n\u001b[0;32m--> 142\u001b[0;31m             \u001b[0;32mreturn\u001b[0m \u001b[0mself\u001b[0m\u001b[0;34m.\u001b[0m\u001b[0mshebang\u001b[0m\u001b[0;34m(\u001b[0m\u001b[0mline\u001b[0m\u001b[0;34m,\u001b[0m \u001b[0mcell\u001b[0m\u001b[0;34m)\u001b[0m\u001b[0;34m\u001b[0m\u001b[0;34m\u001b[0m\u001b[0m\n\u001b[0m\u001b[1;32m    143\u001b[0m \u001b[0;34m\u001b[0m\u001b[0m\n\u001b[1;32m    144\u001b[0m         \u001b[0;31m# write a basic docstring:\u001b[0m\u001b[0;34m\u001b[0m\u001b[0;34m\u001b[0m\u001b[0m\n",
            "\u001b[0;32m<decorator-gen-103>\u001b[0m in \u001b[0;36mshebang\u001b[0;34m(self, line, cell)\u001b[0m\n",
            "\u001b[0;32m/usr/local/lib/python3.10/dist-packages/IPython/core/magic.py\u001b[0m in \u001b[0;36m<lambda>\u001b[0;34m(f, *a, **k)\u001b[0m\n\u001b[1;32m    185\u001b[0m     \u001b[0;31m# but it's overkill for just that one bit of state.\u001b[0m\u001b[0;34m\u001b[0m\u001b[0;34m\u001b[0m\u001b[0m\n\u001b[1;32m    186\u001b[0m     \u001b[0;32mdef\u001b[0m \u001b[0mmagic_deco\u001b[0m\u001b[0;34m(\u001b[0m\u001b[0marg\u001b[0m\u001b[0;34m)\u001b[0m\u001b[0;34m:\u001b[0m\u001b[0;34m\u001b[0m\u001b[0;34m\u001b[0m\u001b[0m\n\u001b[0;32m--> 187\u001b[0;31m         \u001b[0mcall\u001b[0m \u001b[0;34m=\u001b[0m \u001b[0;32mlambda\u001b[0m \u001b[0mf\u001b[0m\u001b[0;34m,\u001b[0m \u001b[0;34m*\u001b[0m\u001b[0ma\u001b[0m\u001b[0;34m,\u001b[0m \u001b[0;34m**\u001b[0m\u001b[0mk\u001b[0m\u001b[0;34m:\u001b[0m \u001b[0mf\u001b[0m\u001b[0;34m(\u001b[0m\u001b[0;34m*\u001b[0m\u001b[0ma\u001b[0m\u001b[0;34m,\u001b[0m \u001b[0;34m**\u001b[0m\u001b[0mk\u001b[0m\u001b[0;34m)\u001b[0m\u001b[0;34m\u001b[0m\u001b[0;34m\u001b[0m\u001b[0m\n\u001b[0m\u001b[1;32m    188\u001b[0m \u001b[0;34m\u001b[0m\u001b[0m\n\u001b[1;32m    189\u001b[0m         \u001b[0;32mif\u001b[0m \u001b[0mcallable\u001b[0m\u001b[0;34m(\u001b[0m\u001b[0marg\u001b[0m\u001b[0;34m)\u001b[0m\u001b[0;34m:\u001b[0m\u001b[0;34m\u001b[0m\u001b[0;34m\u001b[0m\u001b[0m\n",
            "\u001b[0;32m/usr/local/lib/python3.10/dist-packages/IPython/core/magics/script.py\u001b[0m in \u001b[0;36mshebang\u001b[0;34m(self, line, cell)\u001b[0m\n\u001b[1;32m    243\u001b[0m             \u001b[0msys\u001b[0m\u001b[0;34m.\u001b[0m\u001b[0mstderr\u001b[0m\u001b[0;34m.\u001b[0m\u001b[0mflush\u001b[0m\u001b[0;34m(\u001b[0m\u001b[0;34m)\u001b[0m\u001b[0;34m\u001b[0m\u001b[0;34m\u001b[0m\u001b[0m\n\u001b[1;32m    244\u001b[0m         \u001b[0;32mif\u001b[0m \u001b[0margs\u001b[0m\u001b[0;34m.\u001b[0m\u001b[0mraise_error\u001b[0m \u001b[0;32mand\u001b[0m \u001b[0mp\u001b[0m\u001b[0;34m.\u001b[0m\u001b[0mreturncode\u001b[0m\u001b[0;34m!=\u001b[0m\u001b[0;36m0\u001b[0m\u001b[0;34m:\u001b[0m\u001b[0;34m\u001b[0m\u001b[0;34m\u001b[0m\u001b[0m\n\u001b[0;32m--> 245\u001b[0;31m             \u001b[0;32mraise\u001b[0m \u001b[0mCalledProcessError\u001b[0m\u001b[0;34m(\u001b[0m\u001b[0mp\u001b[0m\u001b[0;34m.\u001b[0m\u001b[0mreturncode\u001b[0m\u001b[0;34m,\u001b[0m \u001b[0mcell\u001b[0m\u001b[0;34m,\u001b[0m \u001b[0moutput\u001b[0m\u001b[0;34m=\u001b[0m\u001b[0mout\u001b[0m\u001b[0;34m,\u001b[0m \u001b[0mstderr\u001b[0m\u001b[0;34m=\u001b[0m\u001b[0merr\u001b[0m\u001b[0;34m)\u001b[0m\u001b[0;34m\u001b[0m\u001b[0;34m\u001b[0m\u001b[0m\n\u001b[0m\u001b[1;32m    246\u001b[0m \u001b[0;34m\u001b[0m\u001b[0m\n\u001b[1;32m    247\u001b[0m     \u001b[0;32mdef\u001b[0m \u001b[0m_run_script\u001b[0m\u001b[0;34m(\u001b[0m\u001b[0mself\u001b[0m\u001b[0;34m,\u001b[0m \u001b[0mp\u001b[0m\u001b[0;34m,\u001b[0m \u001b[0mcell\u001b[0m\u001b[0;34m,\u001b[0m \u001b[0mto_close\u001b[0m\u001b[0;34m)\u001b[0m\u001b[0;34m:\u001b[0m\u001b[0;34m\u001b[0m\u001b[0;34m\u001b[0m\u001b[0m\n",
            "\u001b[0;31mCalledProcessError\u001b[0m: Command 'b'hdfs dfs -mkdir -p wordcount\\n'' returned non-zero exit status 127."
          ]
        }
      ],
      "source": [
        "%%bash\n",
        "hdfs dfs -mkdir -p wordcount"
      ]
    },
    {
      "cell_type": "markdown",
      "metadata": {
        "id": "Y3I6kzLHDfPq"
      },
      "source": [
        "Copy the file fruits.txt to Hadoop in the folder `wordcount/input`.\n",
        "\n",
        "Why do we need this step? Because the file `fruits.txt` needs to reside on the Hadoop filesystem in order to enjoy of all of the features of Hadoop (data partitioning, distributed processing, fault tolerance)."
      ]
    },
    {
      "cell_type": "code",
      "execution_count": null,
      "metadata": {
        "id": "frpMPSCeDfPq"
      },
      "outputs": [],
      "source": [
        "%%bash\n",
        "hdfs dfs -rm -r wordcount/input 2>/dev/null\n",
        "hdfs dfs -mkdir wordcount/input\n",
        "hdfs dfs -put fruits.txt wordcount/input"
      ]
    },
    {
      "cell_type": "markdown",
      "metadata": {
        "id": "i7f6M4LbDfPq"
      },
      "source": [
        "Let's check if the file is there now.\n",
        "\n",
        "**Note:** it is convenient use the option `-h` for `ls` to show file sizes in human-readable form (showing sizes in Kilobytes, Megabytes, Gigabytes, etc.)"
      ]
    },
    {
      "cell_type": "code",
      "execution_count": null,
      "metadata": {
        "id": "Zf8qGtCQDfPq"
      },
      "outputs": [],
      "source": [
        "!hdfs dfs -ls -h -R wordcount/input"
      ]
    },
    {
      "cell_type": "markdown",
      "metadata": {
        "id": "2EU45VZBDfPq"
      },
      "source": [
        "### Test MapReduce with a dummy reducer <a name=\"dummyreducer\"></a>\n",
        "\n",
        "Let's try to run the mapper using a dummy reducer (`/bin/cat` does nothing else than echoing the data it receives).\n",
        "\n",
        "**Warning:** mapreduce tends to produce a verbose output, so be ready to see a long output. What you should look for is a message of the kind <html><pre>\"INFO mapreduce.Job: Job ... completed successfully\"</pre></html>\n",
        "\n",
        "**Note:** at the beginning of next cell you'll see a command `hadoop fs -rmr wordcount/output 2>/dev/null`. This is needed because when you run a job several times mapreduce will give an error if you try to overwrite the same output directory."
      ]
    },
    {
      "cell_type": "code",
      "execution_count": null,
      "metadata": {
        "id": "RzBbRbNODfPq"
      },
      "outputs": [],
      "source": [
        "%%bash\n",
        "hdfs dfs -rm -r wordcount/output 2>/dev/null\n",
        "mapred streaming \\\n",
        "  -files map.sh \\\n",
        "  -input wordcount/input \\\n",
        "  -output wordcount/output \\\n",
        "  -mapper map.sh \\\n",
        "  -reducer /bin/cat"
      ]
    },
    {
      "cell_type": "markdown",
      "metadata": {
        "id": "sbcT1680DfPr"
      },
      "source": [
        "The output of the mapreduce job is in the `output` subfolder of the input directory. Let's check what's inside it."
      ]
    },
    {
      "cell_type": "code",
      "execution_count": null,
      "metadata": {
        "id": "SPzcdPY3DfPr"
      },
      "outputs": [],
      "source": [
        "!hdfs dfs -ls wordcount/output"
      ]
    },
    {
      "cell_type": "markdown",
      "metadata": {
        "id": "kWvtUD2vDfPr"
      },
      "source": [
        "If `output` contains a file named `_SUCCESS` that means that the mapreduce job completed successfully.\n",
        "\n",
        "**Note:** when dealing with Big Data it's always advisable to pipe the output of `cat` commands to `head` (or `tail`)."
      ]
    },
    {
      "cell_type": "code",
      "execution_count": null,
      "metadata": {
        "id": "fFsMT4vMDfPr"
      },
      "outputs": [],
      "source": [
        "!hdfs dfs -cat wordcount/output/part*|head"
      ]
    },
    {
      "cell_type": "markdown",
      "metadata": {
        "id": "cxNeH3FMDfPr"
      },
      "source": [
        "We have gotten as expected all the output from the mapper. Something worth of notice is that the data outputted from the mapper _**has been sorted**_. We haven't asked for that but this step is automatically performed by the mapper as soon as the number of reducers is $\\gt 0$."
      ]
    },
    {
      "cell_type": "markdown",
      "metadata": {
        "id": "d9cAlFFkDfPs"
      },
      "source": [
        "### Shuffling and sorting <a name=\"shuffling&sorting\"></a>\n",
        "The following picture illustrates the concept of shuffling and sorting that is automatically performed by Hadoop after each map before passing the output to reduce. In the picture the outputs of the two mapper tasks are shown. The arrows represent shuffling and sorting done before delivering the data to one reducer (rightmost box).\n",
        "![Shuffle & sort](https://github.com/groda/big_data/blob/master/shuffle_sort.png?raw=1)\n",
        "The shuffling and sorting phase is often one of the most costly in a MapReduce job.\n",
        "\n",
        "\n",
        "<b>Note:</b> the job ran with two mappers because $2$ is the default number of mappers in Hadoop."
      ]
    },
    {
      "cell_type": "markdown",
      "metadata": {
        "id": "92DWWxdmDfPs"
      },
      "source": [
        "## The reducer <a name=\"reducer\"></a>\n",
        "Let's now write a reducer script called `reduce.sh`."
      ]
    },
    {
      "cell_type": "code",
      "execution_count": null,
      "metadata": {
        "id": "kkTn9hV7DfPs"
      },
      "outputs": [],
      "source": [
        "%%writefile reduce.sh\n",
        "#!/bin/bash\n",
        "\n",
        "currkey=\"\"\n",
        "currcount=0\n",
        "while IFS=$'\\t' read -r key val\n",
        "do\n",
        "  if [[ $key == $currkey ]]\n",
        "  then\n",
        "      currcount=$(( currcount + val ))\n",
        "  else\n",
        "    if [ -n \"$currkey\" ]\n",
        "    then\n",
        "      echo -e ${currkey} \"\\t\" ${currcount}\n",
        "    fi\n",
        "    currkey=$key\n",
        "    currcount=1\n",
        "  fi\n",
        "done\n",
        "# last one\n",
        "echo -e ${currkey} \"\\t\" ${currcount}"
      ]
    },
    {
      "cell_type": "markdown",
      "metadata": {
        "id": "wi-dyAVLDfPs"
      },
      "source": [
        "Set permission for the reducer script."
      ]
    },
    {
      "cell_type": "code",
      "execution_count": null,
      "metadata": {
        "id": "nXr0BS4rDfPs"
      },
      "outputs": [],
      "source": [
        "!chmod 700 reduce.sh"
      ]
    },
    {
      "cell_type": "markdown",
      "metadata": {
        "id": "F-W9aH1EDfPs"
      },
      "source": [
        "### Test and run <a name=\"run\"></a>\n",
        "\n",
        "Test map and reduce on the shell"
      ]
    },
    {
      "cell_type": "code",
      "execution_count": null,
      "metadata": {
        "id": "mF7JSHFgDfPt"
      },
      "outputs": [],
      "source": [
        "!cat fruits.txt|./map.sh|sort|./reduce.sh"
      ]
    },
    {
      "cell_type": "markdown",
      "metadata": {
        "id": "dHLFzhuPDfPu"
      },
      "source": [
        "Once we've made sure that the reducer script runs correctly on the shell, we can run it on the cluster."
      ]
    },
    {
      "cell_type": "code",
      "execution_count": null,
      "metadata": {
        "id": "svFu5rb0DfPu"
      },
      "outputs": [],
      "source": [
        "%%bash\n",
        "hdfs dfs -rm -r wordcount/output 2>/dev/null\n",
        "mapred streaming \\\n",
        "  -file map.sh \\\n",
        "  -file reduce.sh \\\n",
        "  -input wordcount/input \\\n",
        "  -output wordcount/output \\\n",
        "  -mapper map.sh \\\n",
        "  -reducer reduce.sh"
      ]
    },
    {
      "cell_type": "markdown",
      "metadata": {
        "id": "I0u9VxyEDfPu"
      },
      "source": [
        "Let's check the output on the HDFS filesystem"
      ]
    },
    {
      "cell_type": "code",
      "execution_count": null,
      "metadata": {
        "id": "Ol4gG9sYDfPu"
      },
      "outputs": [],
      "source": [
        "!hdfs dfs -cat wordcount/output/part*|head"
      ]
    },
    {
      "cell_type": "markdown",
      "metadata": {
        "id": "uLR8lD2JDfPu"
      },
      "source": [
        "## Run a mapreduce job with more data <a name=\"moredata\"></a>\n",
        "\n",
        "Let's create a datafile by downloading some real data, for instance from a Web page. This example will be used to introduce some advanced configurations.\n",
        "\n",
        "Next, we download a URL with `wget` and filter out HTML tags with a `sed` regular expression."
      ]
    },
    {
      "cell_type": "code",
      "execution_count": null,
      "metadata": {
        "id": "S9I8ORBwDfPv"
      },
      "outputs": [],
      "source": [
        "%%bash\n",
        "URL=https://www.derstandard.at/story/2000110819049/und-wo-warst-du-beim-fall-der-mauer\n",
        "wget -qO- $URL | sed -e 's/<[^>]*>//g;s/^ //g' >sample_article.txt"
      ]
    },
    {
      "cell_type": "code",
      "execution_count": null,
      "metadata": {
        "id": "o9mZEvWEDfPv"
      },
      "outputs": [],
      "source": [
        "!cat sample_article.txt|./map.sh|head"
      ]
    },
    {
      "cell_type": "markdown",
      "metadata": {
        "id": "xCtlS0aGDfPv"
      },
      "source": [
        "As usual, with real data there's some more work to do. Here we see that the mapper script doesn't skip empty lines. Let's modify it so that empty lines are skipped."
      ]
    },
    {
      "cell_type": "code",
      "execution_count": null,
      "metadata": {
        "id": "lP7bSQbyDfPv"
      },
      "outputs": [],
      "source": [
        "%%writefile map.sh\n",
        "#!/bin/bash\n",
        "\n",
        "while read line\n",
        "do\n",
        " for word in $line\n",
        " do\n",
        "  if [[ \"$line\" =~ [^[:space:]] ]]\n",
        "  then\n",
        "    if [ -n \"$word\" ]\n",
        "    then\n",
        "    echo -e ${word} \"\\t1\"\n",
        "    fi\n",
        "  fi\n",
        " done\n",
        "done"
      ]
    },
    {
      "cell_type": "code",
      "execution_count": null,
      "metadata": {
        "id": "HgqUQl_FDfPv"
      },
      "outputs": [],
      "source": [
        "!cat sample_article.txt|./map.sh|head"
      ]
    },
    {
      "cell_type": "markdown",
      "metadata": {
        "id": "JWCszZvyDfPw"
      },
      "source": [
        "Now the output of `map.sh` looks better!\n",
        "\n",
        "<b>Note:</b> when working with real data we need in general some more preprocessing in order to remove control characters or invalid unicode.\n",
        "\n",
        "Time to run MapReduce again with the new data, but first we need to \"put\" the data on HDFS."
      ]
    },
    {
      "cell_type": "code",
      "execution_count": null,
      "metadata": {
        "id": "NP0W41cTDfPw"
      },
      "outputs": [],
      "source": [
        "%%bash\n",
        "hdfs dfs -rm -r wordcount/input 2>/dev/null\n",
        "hdfs dfs -put sample_article.txt wordcount/input"
      ]
    },
    {
      "cell_type": "code",
      "execution_count": null,
      "metadata": {
        "id": "CJaPU5iYDfPw"
      },
      "outputs": [],
      "source": [
        "# check that the folder wordcount/input on HDFS only contains sample_article.txt\n",
        "!hdfs dfs -ls -h wordcount/input"
      ]
    },
    {
      "cell_type": "markdown",
      "metadata": {
        "id": "7VYlQxEMDfPw"
      },
      "source": [
        "Check the reducer"
      ]
    },
    {
      "cell_type": "code",
      "execution_count": null,
      "metadata": {
        "id": "_V1eSjr6DfPw"
      },
      "outputs": [],
      "source": [
        "!cat sample_article.txt|./map.sh|./reduce.sh|head"
      ]
    },
    {
      "cell_type": "code",
      "execution_count": null,
      "metadata": {
        "id": "qtiIYPnsDfPx"
      },
      "outputs": [],
      "source": [
        "%%bash\n",
        "hadoop fs -rmr wordcount/output 2>/dev/null\n",
        "mapred streaming \\\n",
        "  -file map.sh \\\n",
        "  -file reduce.sh \\\n",
        "  -input wordcount/input \\\n",
        "  -output wordcount/output \\\n",
        "  -mapper map.sh \\\n",
        "  -reducer reduce.sh"
      ]
    },
    {
      "cell_type": "markdown",
      "metadata": {
        "id": "lyu-EMExDfPx"
      },
      "source": [
        "Check the output on HDFS"
      ]
    },
    {
      "cell_type": "code",
      "execution_count": null,
      "metadata": {
        "id": "WwN1yGTxDfPx"
      },
      "outputs": [],
      "source": [
        "!hdfs dfs -ls wordcount/output"
      ]
    },
    {
      "cell_type": "markdown",
      "metadata": {
        "id": "Isw17v5VDfPx"
      },
      "source": [
        "This job took a few seconds and this is quite some time for such a small file (4KB). This is due to the overhead of distributing the data and running the Hadoop framework.\n",
        "The advantage of Hadoop can be appreciated only for large datasets."
      ]
    },
    {
      "cell_type": "code",
      "execution_count": null,
      "metadata": {
        "id": "jHboIitXDfPx"
      },
      "outputs": [],
      "source": [
        "!hdfs dfs -cat wordcount/output/part-00000|head"
      ]
    },
    {
      "cell_type": "markdown",
      "metadata": {
        "id": "5MFagLEaDfPy"
      },
      "source": [
        "### Sort the output with `sort` <a name=\"sortoutput\"></a>\n",
        "\n",
        "We've obtained a list of tokens that appear in the file followed by their frequencies.\n",
        "\n",
        "The output of the reducer is sorted by key (the word) because that's the ordering that the reducer becomes from the mapper. If we're interested in sorting the data by frequency, we can use the Unix `sort` command (with the options `k2`, `n`, `r` respectively \"by field 2\", \"numeric\", \"reverse\")."
      ]
    },
    {
      "cell_type": "code",
      "execution_count": null,
      "metadata": {
        "id": "ilUcfDb6DfPy"
      },
      "outputs": [],
      "source": [
        "!hdfs dfs -cat wordcount/output/part-00000|sort -k2nr|head"
      ]
    },
    {
      "cell_type": "markdown",
      "metadata": {
        "id": "PJUts5jbDfPy"
      },
      "source": [
        "The most common word appears to be \"die\" (the German for the definite article \"the\")."
      ]
    },
    {
      "cell_type": "markdown",
      "metadata": {
        "id": "7HUm_emQDfPy"
      },
      "source": [
        "### Sort the output with another MapReduce job <a name=\"sortoutputMR\"></a>\n",
        "\n",
        "If we wanted to sort the output of the reducer using the mapreduce framework, we could employ a simple trick: create a mapper that interchanges words with their frequency values. Since by construction mappers sort their output by key, we get the desired sorting as a side-effect.\n",
        "\n",
        "Call the new mapper `swap_keyval.sh`."
      ]
    },
    {
      "cell_type": "code",
      "execution_count": null,
      "metadata": {
        "id": "17qd5jZDDfPz"
      },
      "outputs": [],
      "source": [
        "%%writefile swap_keyval.sh\n",
        "#!/bin/bash\n",
        "# This script will read one line at a time and swap key/value\n",
        "# For instance, the line \"word 100\" will become \"100 word\"\n",
        "\n",
        "while read key val\n",
        "do\n",
        " printf \"%s\\t%s\\n\" \"$val\" \"$key\"\n",
        "done"
      ]
    },
    {
      "cell_type": "markdown",
      "metadata": {
        "id": "ADcW2WC0DfPz"
      },
      "source": [
        "We are going to run the swap mapper script on the output of the previous mapreduce job. Note that in the below cell we are not deleting the previous output but instead we're saving the output from the current job in a new folder `output_sorted`.\n",
        "\n",
        "Nice thing about running a job on the output of a preceding job is that we do not need to upload files to HDFS because the data is already on HDFS. Not so nice: writing data to disk at each step of a data transformation pipeline takes time and this can be costly for longer data pipelines. This is one of the shortcomings of MapReduce that are addressed by [Apache Spark](https://spark.apache.org/)."
      ]
    },
    {
      "cell_type": "code",
      "execution_count": null,
      "metadata": {
        "id": "-qIQNYvRDfPz"
      },
      "outputs": [],
      "source": [
        "%%bash\n",
        "hdfs dfs -rm -r wordcount/output2 2>/dev/null\n",
        "mapred streaming \\\n",
        "  -file swap_keyval.sh \\\n",
        "  -input wordcount/output \\\n",
        "  -output wordcount/output2 \\\n",
        "  -mapper swap_keyval.sh"
      ]
    },
    {
      "cell_type": "markdown",
      "metadata": {
        "id": "UFATmpAcDfP0"
      },
      "source": [
        "Check the output on HDFS"
      ]
    },
    {
      "cell_type": "code",
      "execution_count": null,
      "metadata": {
        "id": "kw3eVWv_DfP0"
      },
      "outputs": [],
      "source": [
        "!hdfs dfs -ls wordcount/output2"
      ]
    },
    {
      "cell_type": "code",
      "execution_count": null,
      "metadata": {
        "id": "0vHnaLKODfP0"
      },
      "outputs": [],
      "source": [
        "!hdfs dfs -cat wordcount/output2/part-00000|head"
      ]
    },
    {
      "cell_type": "markdown",
      "metadata": {
        "id": "4rl-fKR7DfP0"
      },
      "source": [
        "Mapper uses by default ascending order to sort by key. We could have changed that with an option but for now let's look at the end of the file."
      ]
    },
    {
      "cell_type": "code",
      "execution_count": null,
      "metadata": {
        "id": "Tp1VocgcDfP1"
      },
      "outputs": [],
      "source": [
        "!hdfs dfs -cat wordcount/output2/part-00000|tail"
      ]
    },
    {
      "cell_type": "markdown",
      "metadata": {
        "id": "c5-UmkeVDfP1"
      },
      "source": [
        "### Configure sort with `KeyFieldBasedComparator` <a name=\"KeyFieldBasedComparator\"></a>\n",
        "\n",
        "In general, we can determine how mappers are going to sort their output by configuring the comparator directive to use the special class [`KeyFieldBasedComparator`](https://hadoop.apache.org/docs/current/api/org/apache/hadoop/mapreduce/lib/partition/KeyFieldBasedComparator.html)\n",
        "<html><pre>-D mapreduce.job.output.key.comparator.class=\\\n",
        "    org.apache.hadoop.mapred.lib.KeyFieldBasedComparator</pre></html>\n",
        "    \n",
        "This class has some options similar to the Unix `sort`(`-n` to sort numerically, `-r` for reverse sorting, `-k pos1[,pos2]` for specifying fields to sort by).\n",
        "\n",
        "Let us see the comparator in action on our data to get the desired result. Note that this time we are removing `output2` because we're running the second mapreduce job again."
      ]
    },
    {
      "cell_type": "code",
      "execution_count": null,
      "metadata": {
        "id": "dFJDFQwNDfP1"
      },
      "outputs": [],
      "source": [
        "%%bash\n",
        "hdfs dfs -rmr wordcount/output2 2>/dev/null\n",
        "comparator_class=org.apache.hadoop.mapred.lib.KeyFieldBasedComparator\n",
        "mapred streaming \\\n",
        "  -D mapreduce.job.output.key.comparator.class=$comparator_class \\\n",
        "  -D mapreduce.partition.keycomparator.options=-nr \\\n",
        "  -file swap_keyval.sh \\\n",
        "  -input wordcount/output \\\n",
        "  -output wordcount/output2 \\\n",
        "  -mapper swap_keyval.sh"
      ]
    },
    {
      "cell_type": "code",
      "execution_count": null,
      "metadata": {
        "id": "szV2H5kcDfP1"
      },
      "outputs": [],
      "source": [
        "!hdfs dfs -ls wordcount/output2"
      ]
    },
    {
      "cell_type": "code",
      "execution_count": null,
      "metadata": {
        "id": "n8jR_J2DDfP1"
      },
      "outputs": [],
      "source": [
        "!hdfs dfs -cat wordcount/output2/part-00000|head"
      ]
    },
    {
      "cell_type": "markdown",
      "metadata": {
        "id": "mR77-wOuDfP2"
      },
      "source": [
        "Now we get the output in the desired order."
      ]
    },
    {
      "cell_type": "markdown",
      "metadata": {
        "id": "Ou8zw0ioDfP2"
      },
      "source": [
        "### Specifying Configuration Variables with the -D Option <a name=\"configuration_variables\"></a>\n",
        "\n",
        "With the `-D` option it is possible to override options set in the default configuration file [`mapred_default.xml`](https://hadoop.apache.org/docs/current/hadoop-mapreduce-client/hadoop-mapreduce-client-core/mapred-default.xml)\n",
        "(see the [Apache Hadoop documentation](https://hadoop.apache.org/docs/current/hadoop-streaming/HadoopStreaming.html#Specifying_Configuration_Variables_with_the_-D_Option)).\n",
        "\n",
        "One option that might come handy when dealing with out-of-memory issues in the sorting phase is the size in MB of the memory reserved for sorting `mapreduce.task.io.sort.mb`:\n",
        " <html>\n",
        "    <pre>-D mapreduce.task.io.sort.mb=512\n",
        "    </pre>\n",
        " </html>\n",
        "\n",
        " **Note:** the maximum value for `mapreduce.task.io.sort.mb` is 2047.   "
      ]
    },
    {
      "cell_type": "markdown",
      "metadata": {
        "id": "7O6jTiUdDfP2"
      },
      "source": [
        "## What is word count useful for? <a name=\"wordcount\"></a>\n",
        "Counting the frequencies of words is at the basis of _indexing_ and it facilitates the retrieval of relevant documents in search engines."
      ]
    }
  ],
  "metadata": {
    "kernelspec": {
      "display_name": "Python 3",
      "language": "python",
      "name": "python3"
    },
    "language_info": {
      "codemirror_mode": {
        "name": "ipython",
        "version": 3
      },
      "file_extension": ".py",
      "mimetype": "text/x-python",
      "name": "python",
      "nbconvert_exporter": "python",
      "pygments_lexer": "ipython3",
      "version": "3.6.9"
    },
    "colab": {
      "provenance": [],
      "include_colab_link": true
    }
  },
  "nbformat": 4,
  "nbformat_minor": 0
}